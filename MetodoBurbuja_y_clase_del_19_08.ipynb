{
  "nbformat": 4,
  "nbformat_minor": 0,
  "metadata": {
    "colab": {
      "provenance": [],
      "authorship_tag": "ABX9TyMELp7yaV5f9nDtGJrzI8uY",
      "include_colab_link": true
    },
    "kernelspec": {
      "name": "python3",
      "display_name": "Python 3"
    },
    "language_info": {
      "name": "python"
    }
  },
  "cells": [
    {
      "cell_type": "markdown",
      "metadata": {
        "id": "view-in-github",
        "colab_type": "text"
      },
      "source": [
        "<a href=\"https://colab.research.google.com/github/PachecoRo/Prueba/blob/main/MetodoBurbuja_y_clase_del_19_08.ipynb\" target=\"_parent\"><img src=\"https://colab.research.google.com/assets/colab-badge.svg\" alt=\"Open In Colab\"/></a>"
      ]
    },
    {
      "cell_type": "code",
      "execution_count": 8,
      "metadata": {
        "colab": {
          "base_uri": "https://localhost:8080/"
        },
        "id": "NUcLo1e6cwWW",
        "outputId": "06c4aec2-3ff4-40bc-c237-2a727f771e17"
      },
      "outputs": [
        {
          "output_type": "stream",
          "name": "stdout",
          "text": [
            "[1, 2, 4, 5, 15]\n"
          ]
        }
      ],
      "source": [
        "def ord_burbuja(arreglo):\n",
        "  n = len(arreglo)\n",
        "\n",
        "  for i in range (n-1): #lo que seria el bucle \"padre\"\n",
        "    for j in range (n-1-i):  #este seria el bucle \"hijo\"\n",
        "      if arreglo[j] > arreglo [j+1]:\n",
        "        arreglo [j], arreglo [j+1] = arreglo [j+1], arreglo [j]\n",
        "\n",
        "lista = [5, 4, 2, 15, 1]\n",
        "ord_burbuja(lista)\n",
        "\n",
        "print(lista)\n"
      ]
    },
    {
      "cell_type": "code",
      "source": [
        "help(min)"
      ],
      "metadata": {
        "colab": {
          "base_uri": "https://localhost:8080/"
        },
        "id": "ZupEzM4yf0UA",
        "outputId": "bee41619-3fc8-4219-e4fc-77e75034a84b"
      },
      "execution_count": 2,
      "outputs": [
        {
          "output_type": "stream",
          "name": "stdout",
          "text": [
            "Help on built-in function min in module builtins:\n",
            "\n",
            "min(...)\n",
            "    min(iterable, *[, default=obj, key=func]) -> value\n",
            "    min(arg1, arg2, *args, *[, key=func]) -> value\n",
            "    \n",
            "    With a single iterable argument, return its smallest item. The\n",
            "    default keyword-only argument specifies an object to return if\n",
            "    the provided iterable is empty.\n",
            "    With two or more arguments, return the smallest argument.\n",
            "\n"
          ]
        }
      ]
    },
    {
      "cell_type": "code",
      "source": [
        "lst_numeros = [23, 45, 12, 67, 34, 89, 2, 78, 90, 11]\n",
        "\n",
        "# Encontrar el valor mínimo en la lista\n",
        "valor_minimo = min(lst_numeros)\n",
        "\n",
        "# Mostrar el valor mínimo\n",
        "print(f\"El valor mínimo en la lista es: {valor_minimo}\")"
      ],
      "metadata": {
        "colab": {
          "base_uri": "https://localhost:8080/"
        },
        "id": "8cRiIVZUgFW_",
        "outputId": "942bf07b-adc9-49b1-f3d9-7614e33e8a48"
      },
      "execution_count": 4,
      "outputs": [
        {
          "output_type": "stream",
          "name": "stdout",
          "text": [
            "El valor mínimo en la lista es: 2\n"
          ]
        }
      ]
    },
    {
      "cell_type": "code",
      "source": [
        "lst_numeros = [23, 45, 12, 67, 34, 89, 2, 78, 90, 11]\n",
        "\n",
        "# Encontrar el valor maximo en la lista\n",
        "valor_maximo = max(lst_numeros)\n",
        "\n",
        "# Mostrar el valor maximo\n",
        "print(f\"El valor maximo en la lista es: {valor_maximo}\")"
      ],
      "metadata": {
        "colab": {
          "base_uri": "https://localhost:8080/"
        },
        "id": "Bwe946Grg59w",
        "outputId": "e2b062b2-daac-4e70-8d65-05af8d63990a"
      },
      "execution_count": 5,
      "outputs": [
        {
          "output_type": "stream",
          "name": "stdout",
          "text": [
            "El valor maximo en la lista es: 90\n"
          ]
        }
      ]
    },
    {
      "cell_type": "code",
      "source": [
        "min = lst_numeros[0]\n",
        "\n",
        "valor_minimo = lst_numeros[0]\n",
        "\n",
        "# Iterar sobre la lista comenzando desde el segundo elemento\n",
        "for valor in lst_numeros[1:]:\n",
        "    # Comparar cada valor con el valor mínimo actual\n",
        "    if valor > valor_minimo:\n",
        "        valor_maximo = valor  # Actualizar el valor maximo si se encuentra un valor mayor\n",
        "\n",
        "# Mostrar el valor maximo encontrado\n",
        "print(f\"El valor maximo en la lista es: {valor_minimo}\")"
      ],
      "metadata": {
        "colab": {
          "base_uri": "https://localhost:8080/"
        },
        "id": "mN0xaSIWhY6z",
        "outputId": "ff46d3e1-31b6-4688-eee3-64dae3f54d83"
      },
      "execution_count": 7,
      "outputs": [
        {
          "output_type": "stream",
          "name": "stdout",
          "text": [
            "El valor maximo en la lista es: 23\n"
          ]
        }
      ]
    }
  ]
}