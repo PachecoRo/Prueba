{
  "nbformat": 4,
  "nbformat_minor": 0,
  "metadata": {
    "colab": {
      "provenance": [],
      "authorship_tag": "ABX9TyPfqnvyDovIfa2qr8/UZMvr",
      "include_colab_link": true
    },
    "kernelspec": {
      "name": "python3",
      "display_name": "Python 3"
    },
    "language_info": {
      "name": "python"
    }
  },
  "cells": [
    {
      "cell_type": "markdown",
      "metadata": {
        "id": "view-in-github",
        "colab_type": "text"
      },
      "source": [
        "<a href=\"https://colab.research.google.com/github/PachecoRo/Prueba/blob/main/MetodoBurbuja.ipynb\" target=\"_parent\"><img src=\"https://colab.research.google.com/assets/colab-badge.svg\" alt=\"Open In Colab\"/></a>"
      ]
    },
    {
      "cell_type": "code",
      "execution_count": 3,
      "metadata": {
        "colab": {
          "base_uri": "https://localhost:8080/"
        },
        "id": "NUcLo1e6cwWW",
        "outputId": "4a150371-7ffa-438c-da8c-80e5b313b3a9"
      },
      "outputs": [
        {
          "output_type": "stream",
          "name": "stdout",
          "text": [
            "[1, 2, 4, 5, 15]\n"
          ]
        }
      ],
      "source": [
        "def ord_burbuja(arreglo):\n",
        "  n = len(arreglo)\n",
        "\n",
        "  for i in range (n-1): #lo que seria el bucle \"padre\"\n",
        "    for j in range (n-1-i):  #este seria el bucle \"hijo\"\n",
        "      if arreglo[j] > arreglo [j+1]:\n",
        "        arreglo [j], arreglo [j+1] = arreglo [j+1], arreglo [j]\n",
        "\n",
        "lista = [5, 4, 2, 15, 1]\n",
        "ord_burbuja(lista)\n",
        "\n",
        "print(lista)"
      ]
    }
  ]
}