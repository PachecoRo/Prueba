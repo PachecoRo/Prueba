{
  "nbformat": 4,
  "nbformat_minor": 0,
  "metadata": {
    "colab": {
      "provenance": [],
      "authorship_tag": "ABX9TyNgkoLGGoT2dMe7RUKvNFEN",
      "include_colab_link": true
    },
    "kernelspec": {
      "name": "python3",
      "display_name": "Python 3"
    },
    "language_info": {
      "name": "python"
    }
  },
  "cells": [
    {
      "cell_type": "markdown",
      "metadata": {
        "id": "view-in-github",
        "colab_type": "text"
      },
      "source": [
        "<a href=\"https://colab.research.google.com/github/PachecoRo/Prueba/blob/main/Trabajo_Practico_CalculoNum.ipynb\" target=\"_parent\"><img src=\"https://colab.research.google.com/assets/colab-badge.svg\" alt=\"Open In Colab\"/></a>"
      ]
    },
    {
      "cell_type": "code",
      "execution_count": 10,
      "metadata": {
        "colab": {
          "base_uri": "https://localhost:8080/"
        },
        "id": "1bI2i1eqVyc2",
        "outputId": "9b5e2be7-e813-474c-cfe6-596cc46ab428"
      },
      "outputs": [
        {
          "output_type": "stream",
          "name": "stdout",
          "text": [
            "nombre:  José  su notas son:  [85, 90, 78, -10]\n",
            "Notas inválidas: [-10]\n",
            "El promedio de José es: 84.33333333333333\n",
            "nombre:  Carlos  su notas son:  [88, 72, 94, 102]\n",
            "Notas inválidas: [102]\n",
            "El promedio de Carlos es: 84.66666666666667\n",
            "nombre:  María  su notas son:  [95, 85, 87, 'A++']\n",
            "Notas inválidas: ['A++']\n",
            "El promedio de María es: 89.0\n",
            "nombre:  Rocío  su notas son:  ['A', 'F', 'B+', 'C-']\n",
            "Notas inválidas: ['A']\n",
            "Notas inválidas: ['A', 'F']\n",
            "Notas inválidas: ['A', 'F', 'B+']\n",
            "Notas inválidas: ['A', 'F', 'B+', 'C-']\n",
            "Rocío no tiene notas válidas para calcular el promedio.\n",
            "nombre:  Fabrizio  su notas son:  []\n",
            "Fabrizio no tiene notas para mostrar.\n",
            "Fabrizio no tiene notas válidas para calcular el promedio.\n"
          ]
        }
      ],
      "source": [
        "students = [\n",
        "    {\"nombre\": \"José\", \"notas\": [85, 90, 78, -10]},\n",
        "    {\"nombre\": \"Carlos\", \"notas\": [88, 72, 94, 102]},\n",
        "    {\"nombre\": \"María\", \"notas\": [95, 85, 87, \"A++\"]},\n",
        "    {\"nombre\": \"Rocío\", \"notas\": [\"A\", \"F\", \"B+\", \"C-\"]},\n",
        "    {\"nombre\": \"Fabrizio\", \"notas\": []}\n",
        "]\n",
        "\n",
        "\n",
        "def nota_valida(nota):\n",
        "    return isinstance(nota, (int, float)) and 0 <= nota <= 100 #insistance para verificar si un objeto es de un tipo de dato esp.,  en ese caso seria si la nota es int o float\n",
        "\n",
        "for student in students:\n",
        "    nombre = student[\"nombre\"]\n",
        "    notas = student[\"notas\"]\n",
        "\n",
        "\n",
        "    print(\"nombre: \",nombre, \" su notas son: \",notas)\n",
        "\n",
        "    if not notas:  # Verificar si la lista de notas está vacía\n",
        "        print(f\"{nombre} no tiene notas para mostrar.\")\n",
        "\n",
        "    notas_validas = []\n",
        "    notas_invalidas = []\n",
        "\n",
        "    for nota in notas:\n",
        "      if nota_valida(nota):\n",
        "            notas_validas.append(nota)\n",
        "      else:\n",
        "            notas_invalidas.append(nota)\n",
        "            print(\"Notas inválidas:\", notas_invalidas) #No se como hacer para que me ponga las notas invalidas todas juntas de una y no irme poniendo una a una formando la escalera\n",
        "\n",
        "\n",
        "\n",
        "    if notas_validas: #Verifico que las notas que voy a usar para el promedio sean validas\n",
        "        promedio = sum(notas_validas) / len(notas_validas)  #La funcion Len se utiliza para saber el nro de elemenos de un objeto, en este caso  el objeto son las notas validas.\n",
        "        print(f\"El promedio de {nombre} es: {promedio}\")\n",
        "    else:\n",
        "        print(f\"{nombre} no tiene notas válidas para calcular el promedio.\")\n",
        "\n",
        "\n",
        "\n",
        "\n",
        "\n",
        "\n",
        "\n",
        "\n",
        "\n",
        "\n",
        "\n",
        "\n",
        "\n",
        "\n",
        "\n",
        "\n",
        "\n",
        "\n",
        "\n",
        "\n",
        "\n"
      ]
    }
  ]
}